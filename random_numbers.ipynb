{
 "cells": [
  {
   "cell_type": "markdown",
   "id": "c70b26cc",
   "metadata": {},
   "source": [
    "# The Random Module\n",
    "###### The random() Function, When we type \"random.\" then hit tab. we'll see a dropdown list of random module functions\n",
    "###### Using the random() function, we can get a single floating-point decimal number between 0 and 1.0."
   ]
  },
  {
   "cell_type": "code",
   "execution_count": 1,
   "id": "00cad8b9",
   "metadata": {},
   "outputs": [],
   "source": [
    "# Import the Random Module\n",
    "import random"
   ]
  },
  {
   "cell_type": "markdown",
   "id": "f4f0fd73",
   "metadata": {},
   "source": [
    "The randint() Function: \"randit\" is short for \"random integer\". You'll get a single integer, not a floating-point decimal, between the given intervals you specify inside the parantheses."
   ]
  },
  {
   "cell_type": "code",
   "execution_count": 2,
   "id": "d3241fb3",
   "metadata": {},
   "outputs": [
    {
     "data": {
      "text/plain": [
       "-2"
      ]
     },
     "execution_count": 2,
     "metadata": {},
     "output_type": "execute_result"
    }
   ],
   "source": [
    "random.randint(-10,10)"
   ]
  },
  {
   "cell_type": "markdown",
   "id": "ca9f4b63",
   "metadata": {},
   "source": [
    "The random() Function: this function returns only a single floating-point decimal number between 0 and 1.0. No need to specify intervals inside the parantheses."
   ]
  },
  {
   "cell_type": "code",
   "execution_count": 3,
   "id": "99a06eaf",
   "metadata": {},
   "outputs": [
    {
     "data": {
      "text/plain": [
       "0.584217709555245"
      ]
     },
     "execution_count": 3,
     "metadata": {},
     "output_type": "execute_result"
    }
   ],
   "source": [
    "random.random()"
   ]
  },
  {
   "cell_type": "markdown",
   "id": "35a68c64",
   "metadata": {},
   "source": [
    "The randrange() Function: behaves differently from the previous two. Inside the parantheses, we need to add two numbers, a lower and upper limit, separated by a comma. For this function, there's the option to add a \"step\" parameter and set it equal to an integer that will generate increments of a given integer value, from the lower to the upper limit.\n"
   ]
  },
  {
   "cell_type": "markdown",
   "id": "ac2368ab",
   "metadata": {},
   "source": [
    "NOTE: If we combine both functions, we can generate a random latitude!"
   ]
  },
  {
   "cell_type": "code",
   "execution_count": 4,
   "id": "d3e9aaea",
   "metadata": {},
   "outputs": [
    {
     "data": {
      "text/plain": [
       "-14.019299528362527"
      ]
     },
     "execution_count": 4,
     "metadata": {},
     "output_type": "execute_result"
    }
   ],
   "source": [
    "random_number = random.randint(-90, 89) + random.random()\n",
    "random_number"
   ]
  },
  {
   "cell_type": "code",
   "execution_count": 5,
   "id": "9528a121",
   "metadata": {},
   "outputs": [
    {
     "data": {
      "text/plain": [
       "-50"
      ]
     },
     "execution_count": 5,
     "metadata": {},
     "output_type": "execute_result"
    }
   ],
   "source": [
    "random.randrange(-90, 90, step=1)"
   ]
  },
  {
   "cell_type": "markdown",
   "id": "8a4b3f49",
   "metadata": {},
   "source": [
    "Sample Algorithm: Using the two functions, we can write an algorithm that will generate latitudes between -90 and 90. Here is a sample algorithm of what it might take to generate ten random floating-point decimal latitudes between -90 and 90."
   ]
  },
  {
   "cell_type": "code",
   "execution_count": 6,
   "id": "99aeba5a",
   "metadata": {},
   "outputs": [
    {
     "data": {
      "text/plain": [
       "[-70.72335005434925,\n",
       " -59.71666174618181,\n",
       " -41.87929096362742,\n",
       " 3.5326349753671686,\n",
       " 73.87104752838133,\n",
       " 31.835649735755574,\n",
       " 52.8676322665169,\n",
       " 17.635745886739834,\n",
       " 40.78108849660397,\n",
       " 0.5244712946542651]"
      ]
     },
     "execution_count": 6,
     "metadata": {},
     "output_type": "execute_result"
    }
   ],
   "source": [
    "x = 1\n",
    "latitudes = []\n",
    "while x < 11:\n",
    "    random_lat = random.randint(-90, 90) + random.random()\n",
    "    latitudes.append(random_lat)\n",
    "    x += 1\n",
    "\n",
    "latitudes"
   ]
  },
  {
   "cell_type": "markdown",
   "id": "66154d15",
   "metadata": {},
   "source": [
    "The randrange() Function: behaves differently from the previous two. Inside the parantheses, we need to add two numbers, a lower and upper limit, separated by a comma. For this function, there's the option to add a \"step\" parameter and set it equal to an integer that will generate increments of a given integer value, from the lower to the upper limit."
   ]
  },
  {
   "cell_type": "code",
   "execution_count": 7,
   "id": "4c205fa0",
   "metadata": {},
   "outputs": [
    {
     "data": {
      "text/plain": [
       "-46"
      ]
     },
     "execution_count": 7,
     "metadata": {},
     "output_type": "execute_result"
    }
   ],
   "source": [
    "random.randrange(-90, 90, step=1)"
   ]
  },
  {
   "cell_type": "code",
   "execution_count": 8,
   "id": "902cb785",
   "metadata": {},
   "outputs": [
    {
     "data": {
      "text/plain": [
       "-48"
      ]
     },
     "execution_count": 8,
     "metadata": {},
     "output_type": "execute_result"
    }
   ],
   "source": [
    "random.randrange(-90, 90, step=3)"
   ]
  },
  {
   "cell_type": "markdown",
   "id": "d8bd6e22",
   "metadata": {},
   "source": [
    "The uniform() Function: this function will allow to generate a floating-point decimal number between two given numbers inside the parantheses."
   ]
  },
  {
   "cell_type": "code",
   "execution_count": 9,
   "id": "5114c764",
   "metadata": {},
   "outputs": [
    {
     "data": {
      "text/plain": [
       "64.41559047998257"
      ]
     },
     "execution_count": 9,
     "metadata": {},
     "output_type": "execute_result"
    }
   ],
   "source": [
    "random.uniform(-90,90)"
   ]
  },
  {
   "cell_type": "markdown",
   "id": "174d94c6",
   "metadata": {},
   "source": [
    "# The NumPy and Random Modules"
   ]
  },
  {
   "cell_type": "markdown",
   "id": "8057e07b",
   "metadata": {},
   "source": [
    "The NumPy module in Python is a numerical mathematics library that can be used to make arrays or matrices of numbers.\n",
    "\n",
    "NOTE: The NumPy module has a built-in random module, and supplements the built-in Python random module. THere is no need to import the random module if we import the NumPy module since it is redundant."
   ]
  },
  {
   "cell_type": "code",
   "execution_count": 10,
   "id": "8507a6d4",
   "metadata": {},
   "outputs": [],
   "source": [
    "# Import the NumPy module.\n",
    "import numpy as np"
   ]
  },
  {
   "cell_type": "code",
   "execution_count": 11,
   "id": "10932d75",
   "metadata": {},
   "outputs": [
    {
     "data": {
      "text/plain": [
       "24.16617814575855"
      ]
     },
     "execution_count": 11,
     "metadata": {},
     "output_type": "execute_result"
    }
   ],
   "source": [
    "np.random.uniform(-90.000, 90.000)"
   ]
  },
  {
   "cell_type": "code",
   "execution_count": 12,
   "id": "9c7a8e7a",
   "metadata": {},
   "outputs": [
    {
     "data": {
      "text/plain": [
       "85.96588646383185"
      ]
     },
     "execution_count": 12,
     "metadata": {},
     "output_type": "execute_result"
    }
   ],
   "source": [
    "np.random.uniform(-90, 90)"
   ]
  },
  {
   "cell_type": "markdown",
   "id": "e935889a",
   "metadata": {},
   "source": [
    "When we use the NumPy module with the random.uniform() function, the parenthencial paramenters contain a lower boundary (low value) and an upper boundary (high value) that are floating point-decimal numbers.\n",
    "\n",
    "Another option is to the write the parameters as:"
   ]
  },
  {
   "cell_type": "code",
   "execution_count": 13,
   "id": "f4034682",
   "metadata": {},
   "outputs": [
    {
     "data": {
      "text/plain": [
       "40.833286958815336"
      ]
     },
     "execution_count": 13,
     "metadata": {},
     "output_type": "execute_result"
    }
   ],
   "source": [
    "np.random.uniform(low= -90, high= 90)"
   ]
  },
  {
   "cell_type": "markdown",
   "id": "d376cbd7",
   "metadata": {},
   "source": [
    "To generate more than one floating-point decimal between -90 and 90, add the \"size\" parameter when using the NumPy module and set it equal to a whole number."
   ]
  },
  {
   "cell_type": "code",
   "execution_count": 14,
   "id": "c608b0b8",
   "metadata": {},
   "outputs": [
    {
     "data": {
      "text/plain": [
       "array([-63.428183  , -68.80469084,  74.90494598, -83.94081389,\n",
       "       -55.42852922, -40.77349974, -89.11054681, -26.97965477,\n",
       "       -69.29172911,  73.3751117 , -62.0046591 , -42.0295175 ,\n",
       "        27.47866377, -79.38272321,  17.38645549,   2.11208684,\n",
       "       -12.21213342, -63.51089118,  -3.61282697, -32.41737275,\n",
       "       -57.0193858 , -32.03424228,   3.21367521,  60.57484747,\n",
       "       -88.470711  ,   9.20228501,  19.38899382,  63.4889205 ,\n",
       "       -52.17226853, -52.04718479,  61.34182297,  46.66441598,\n",
       "        46.6881507 , -41.61575641,  26.68534091, -80.3406412 ,\n",
       "       -47.90261475, -79.78052976,  53.06922738, -86.00788421,\n",
       "       -59.96861258, -20.71465818, -73.36483253, -82.5191207 ,\n",
       "       -55.69457269,  26.06327354,  31.80756105,  25.5152162 ,\n",
       "         5.52721179,   7.27931216])"
      ]
     },
     "execution_count": 14,
     "metadata": {},
     "output_type": "execute_result"
    }
   ],
   "source": [
    "np.random.uniform(-90, 90, size=50)"
   ]
  },
  {
   "cell_type": "markdown",
   "id": "762987c6",
   "metadata": {},
   "source": [
    "## Is this method faster than creating a while loop like we did before? Let's test this for a size of 1,500."
   ]
  },
  {
   "cell_type": "markdown",
   "id": "50aa1878",
   "metadata": {},
   "source": [
    "To test how long a piece of code or function takes to run, we can import the \"timeit\" module and use the %timeit magic command when we run our code or call the function."
   ]
  },
  {
   "cell_type": "code",
   "execution_count": 15,
   "id": "6b4d3dcf",
   "metadata": {},
   "outputs": [],
   "source": [
    "# Improt timeit\n",
    "import timeit"
   ]
  },
  {
   "cell_type": "code",
   "execution_count": 16,
   "id": "eab861bd",
   "metadata": {},
   "outputs": [
    {
     "name": "stdout",
     "output_type": "stream",
     "text": [
      "15.9 µs ± 2.16 µs per loop (mean ± std. dev. of 7 runs, 10,000 loops each)\n"
     ]
    }
   ],
   "source": [
    "%timeit np.random.uniform(-90, 90, size=1500)"
   ]
  },
  {
   "cell_type": "markdown",
   "id": "1713266e",
   "metadata": {},
   "source": [
    "Now, let's run the while loop as a function. Copy the following code in a new cell and run the cell."
   ]
  },
  {
   "cell_type": "code",
   "execution_count": 17,
   "id": "ac436b48",
   "metadata": {},
   "outputs": [],
   "source": [
    "def latitudes(size):\n",
    "    latitudes = []\n",
    "    x = 0\n",
    "    while x < (size):\n",
    "        random_lat = random.randint(-90, 90) + random.random()\n",
    "        latitudes.append(random_lat)\n",
    "        x += 1\n",
    "        \n",
    "    return latitudes"
   ]
  },
  {
   "cell_type": "markdown",
   "id": "9624880e",
   "metadata": {},
   "source": [
    "Using the np.random.uniform(-90.000, 90.000, size=1500) is 100 times faster than using the function, and our code is one line, whereas the function uses eight lines!"
   ]
  },
  {
   "cell_type": "code",
   "execution_count": 18,
   "id": "906a46b9",
   "metadata": {},
   "outputs": [
    {
     "name": "stdout",
     "output_type": "stream",
     "text": [
      "1.37 ms ± 10.9 µs per loop (mean ± std. dev. of 7 runs, 1,000 loops each)\n"
     ]
    }
   ],
   "source": [
    "# Call the function with 1500.\n",
    "%timeit latitudes(1500)"
   ]
  },
  {
   "cell_type": "markdown",
   "id": "32b41f14",
   "metadata": {},
   "source": []
  }
 ],
 "metadata": {
  "kernelspec": {
   "display_name": "Python 3 (ipykernel)",
   "language": "python",
   "name": "python3"
  },
  "language_info": {
   "codemirror_mode": {
    "name": "ipython",
    "version": 3
   },
   "file_extension": ".py",
   "mimetype": "text/x-python",
   "name": "python",
   "nbconvert_exporter": "python",
   "pygments_lexer": "ipython3",
   "version": "3.9.7"
  }
 },
 "nbformat": 4,
 "nbformat_minor": 5
}
